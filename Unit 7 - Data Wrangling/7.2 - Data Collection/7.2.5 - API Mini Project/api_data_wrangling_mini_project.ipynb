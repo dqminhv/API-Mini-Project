{
  "cells": [
    {
      "cell_type": "markdown",
      "metadata": {
        "id": "view-in-github",
        "colab_type": "text"
      },
      "source": [
        "<a href=\"https://colab.research.google.com/github/dqminhv/API-Mini-Project/blob/master/Unit%207%20-%20Data%20Wrangling/7.2%20-%20Data%20Collection/7.2.5%20-%20API%20Mini%20Project/api_data_wrangling_mini_project.ipynb\" target=\"_parent\"><img src=\"https://colab.research.google.com/assets/colab-badge.svg\" alt=\"Open In Colab\"/></a>"
      ]
    },
    {
      "cell_type": "markdown",
      "source": [
        "This exercise will require you to pull some data from https://data.nasdaq.com/ (formerly Quandl API)."
      ],
      "metadata": {
        "id": "V5UAqscZIs_Z"
      }
    },
    {
      "cell_type": "markdown",
      "source": [
        "As a first step, you will need to register a free account on the https://data.nasdaq.com/ website."
      ],
      "metadata": {
        "id": "fEHdHFy2Is_c"
      }
    },
    {
      "cell_type": "markdown",
      "source": [
        "After you register, you will be provided with a unique API key, that you should store:\n",
        "\n",
        "*Note*: Use a `.env` file and put your key in there and `python-dotenv` to access it in this notebook.\n",
        "\n",
        "The code below uses a key that was used when generating this project but has since been deleted. Never submit your keys to source control. There is a `.env-example` file in this repository to illusrtate what you need. Copy that to a file called `.env` and use your own api key in that `.env` file. Make sure you also have a `.gitignore` file with a line for `.env` added to it.\n",
        "\n",
        "The standard Python gitignore is [here](https://github.com/github/gitignore/blob/master/Python.gitignore) you can just copy that."
      ],
      "metadata": {
        "id": "wLAfYg-vIs_d"
      }
    },
    {
      "cell_type": "code",
      "execution_count": 1,
      "source": [
        "# get api key from your .env file\n",
        "import os\n",
        "!pip install colab-env -qU\n",
        "import colab_env\n",
        "from dotenv import load_dotenv"
      ],
      "outputs": [
        {
          "output_type": "stream",
          "name": "stdout",
          "text": [
            "  Preparing metadata (setup.py) ... \u001b[?25l\u001b[?25hdone\n",
            "  Building wheel for colab-env (setup.py) ... \u001b[?25l\u001b[?25hdone\n",
            "Mounted at /content/gdrive\n"
          ]
        }
      ],
      "metadata": {
        "colab": {
          "base_uri": "https://localhost:8080/"
        },
        "id": "BmZaDHJXIs_e",
        "outputId": "abcf63b0-1614-47f5-e7e3-255d8be5527e"
      }
    },
    {
      "cell_type": "code",
      "source": [
        "from colab_env import envvar_handler"
      ],
      "metadata": {
        "id": "Ptc8al_3YwDZ"
      },
      "execution_count": 2,
      "outputs": []
    },
    {
      "cell_type": "code",
      "source": [
        "load_dotenv()\n",
        "API_KEY = os.getenv('NASDAQ_API_KEY')"
      ],
      "metadata": {
        "id": "1iMW-przWGD0"
      },
      "execution_count": 3,
      "outputs": []
    },
    {
      "cell_type": "markdown",
      "source": [
        "# New Section"
      ],
      "metadata": {
        "id": "qyuxe290XJAd"
      }
    },
    {
      "cell_type": "markdown",
      "source": [
        "Nasdaq Data has a large number of data sources, but, unfortunately, most of them require a Premium subscription. Still, there are also a good number of free datasets."
      ],
      "metadata": {
        "id": "_3ulVhEhIs_h"
      }
    },
    {
      "cell_type": "markdown",
      "source": [
        "For this mini project, we will focus on equities data from the Frankfurt Stock Exhange (FSE), which is available for free. We'll try and analyze the stock prices of a company called Carl Zeiss Meditec, which manufactures tools for eye examinations, as well as medical lasers for laser eye surgery: https://www.zeiss.com/meditec/int/home.html. The company is listed under the stock ticker AFX_X."
      ],
      "metadata": {
        "id": "PU2EwNLaIs_h"
      }
    },
    {
      "cell_type": "markdown",
      "source": [
        "You can find the detailed Nasdaq Data API instructions here: https://docs.data.nasdaq.com/docs/in-depth-usage"
      ],
      "metadata": {
        "id": "_PSHE6IVIs_i"
      }
    },
    {
      "cell_type": "markdown",
      "source": [
        "While there is a dedicated Python package for connecting to the Nasdaq API, we would prefer that you use the *requests* package, which can be easily downloaded using *pip* or *conda*. You can find the documentation for the package here: http://docs.python-requests.org/en/master/"
      ],
      "metadata": {
        "id": "DY6dTzFVIs_i"
      }
    },
    {
      "cell_type": "markdown",
      "source": [
        "Finally, apart from the *requests* package, you are encouraged to not use any third party Python packages, such as *pandas*, and instead focus on what's available in the Python Standard Library (the *collections* module might come in handy: https://pymotw.com/3/collections/).\n",
        "Also, since you won't have access to DataFrames, you are encouraged to us Python's native data structures - preferably dictionaries, though some questions can also be answered using lists.\n",
        "You can read more on these data structures here: https://docs.python.org/3/tutorial/datastructures.html"
      ],
      "metadata": {
        "id": "WmMgOTXeIs_j"
      }
    },
    {
      "cell_type": "markdown",
      "source": [
        "Keep in mind that the JSON responses you will be getting from the API map almost one-to-one to Python's dictionaries. Unfortunately, they can be very nested, so make sure you read up on indexing dictionaries in the documentation provided above."
      ],
      "metadata": {
        "id": "MJGxLVrRIs_j"
      }
    },
    {
      "cell_type": "code",
      "execution_count": 4,
      "source": [
        "# First, import the relevant modules\n",
        "import json\n",
        "import requests"
      ],
      "outputs": [],
      "metadata": {
        "id": "ZxZnxf2jIs_k"
      }
    },
    {
      "cell_type": "markdown",
      "source": [
        "Note: API's can change a bit with each version, for this exercise it is reccomended to use the nasdaq api at `https://data.nasdaq.com/api/v3/`. This is the same api as what used to be quandl so `https://www.quandl.com/api/v3/` should work too.\n",
        "\n",
        "Hint: We are looking for the `AFX_X` data on the `datasets/FSE/` dataset."
      ],
      "metadata": {
        "id": "frARbdi5Is_l"
      }
    },
    {
      "cell_type": "code",
      "source": [
        "print(API_KEY)"
      ],
      "metadata": {
        "id": "OunG9mTc-4b-",
        "outputId": "14344e33-4fcc-4f28-eae3-87d59d13e3e7",
        "colab": {
          "base_uri": "https://localhost:8080/"
        }
      },
      "execution_count": 8,
      "outputs": [
        {
          "output_type": "stream",
          "name": "stdout",
          "text": [
            "ixQjenzEUPuq8HfzQprq\n"
          ]
        }
      ]
    },
    {
      "cell_type": "code",
      "execution_count": 9,
      "source": [
        "# Now, call the Nasdaq API and pull out a small sample of the data (only one day) to get a glimpse\n",
        "# into the JSON structure that will be returned\n",
        "url = \"https://data.nasdaq.com/api/v3/datasets/FSE/AFX_X.json?start_date=2018-06-14&end_date=2018-06-14&api_key=\" + API_KEY\n",
        "r = requests.get(url)\n",
        "json_data = r.json()"
      ],
      "outputs": [],
      "metadata": {
        "id": "H7UzT2bfIs_l"
      }
    },
    {
      "cell_type": "code",
      "source": [
        "for key, value in json_data.items():\n",
        "  print(key + \":\", value)"
      ],
      "metadata": {
        "colab": {
          "base_uri": "https://localhost:8080/"
        },
        "id": "27aNv_NeeCPy",
        "outputId": "6bfbaab1-63e5-430d-8388-b1939cea5c5d"
      },
      "execution_count": 10,
      "outputs": [
        {
          "output_type": "stream",
          "name": "stdout",
          "text": [
            "dataset: {'id': 10095370, 'dataset_code': 'AFX_X', 'database_code': 'FSE', 'name': 'Carl Zeiss Meditec (AFX_X)', 'description': 'Stock Prices for Carl Zeiss Meditec (2020-11-02) from the Frankfurt Stock Exchange.<br><br>Trading System: Xetra<br><br>ISIN: DE0005313704', 'refreshed_at': '2020-12-01T14:48:09.907Z', 'newest_available_date': '2020-12-01', 'oldest_available_date': '2000-06-07', 'column_names': ['Date', 'Open', 'High', 'Low', 'Close', 'Change', 'Traded Volume', 'Turnover', 'Last Price of the Day', 'Daily Traded Units', 'Daily Turnover'], 'frequency': 'daily', 'type': 'Time Series', 'premium': False, 'limit': None, 'transform': None, 'column_index': None, 'start_date': '2018-06-14', 'end_date': '2018-06-14', 'data': [['2018-06-14', None, 62.35, 61.4, 62.15, None, 72484.0, 4498956.0, None, None, None]], 'collapse': None, 'order': None, 'database_id': 6129}\n"
          ]
        }
      ]
    },
    {
      "cell_type": "code",
      "execution_count": null,
      "source": [
        "# Inspect the JSON structure of the object you created, and take note of how nested it is,\n",
        "# as well as the overall structure"
      ],
      "outputs": [
        {
          "output_type": "execute_result",
          "data": {
            "text/plain": [
              "{'dataset': {'id': 10095370,\n",
              "  'dataset_code': 'AFX_X',\n",
              "  'database_code': 'FSE',\n",
              "  'name': 'Carl Zeiss Meditec (AFX_X)',\n",
              "  'description': 'Stock Prices for Carl Zeiss Meditec (2020-11-02) from the Frankfurt Stock Exchange.<br><br>Trading System: Xetra<br><br>ISIN: DE0005313704',\n",
              "  'refreshed_at': '2020-12-01T14:48:09.907Z',\n",
              "  'newest_available_date': '2020-12-01',\n",
              "  'oldest_available_date': '2000-06-07',\n",
              "  'column_names': ['Date',\n",
              "   'Open',\n",
              "   'High',\n",
              "   'Low',\n",
              "   'Close',\n",
              "   'Change',\n",
              "   'Traded Volume',\n",
              "   'Turnover',\n",
              "   'Last Price of the Day',\n",
              "   'Daily Traded Units',\n",
              "   'Daily Turnover'],\n",
              "  'frequency': 'daily',\n",
              "  'type': 'Time Series',\n",
              "  'premium': False,\n",
              "  'limit': None,\n",
              "  'transform': None,\n",
              "  'column_index': None,\n",
              "  'start_date': '2021-01-03',\n",
              "  'end_date': '2020-12-01',\n",
              "  'data': [],\n",
              "  'collapse': None,\n",
              "  'order': None,\n",
              "  'database_id': 6129}}"
            ]
          },
          "metadata": {},
          "execution_count": 4
        }
      ],
      "metadata": {
        "id": "b6EQ_KcOIs_m",
        "outputId": "ab9d2096-2d5b-497d-9ffb-050d7e63eabd"
      }
    },
    {
      "cell_type": "markdown",
      "source": [
        "These are your tasks for this mini project:\n",
        "\n",
        "1. Collect data from the Franfurt Stock Exchange, for the ticker AFX_X, for the whole year 2017 (keep in mind that the date format is YYYY-MM-DD).\n",
        "2. Convert the returned JSON object into a Python dictionary.\n",
        "3. Calculate what the highest and lowest opening prices were for the stock in this period.\n",
        "4. What was the largest change in any one day (based on High and Low price)?\n",
        "5. What was the largest change between any two days (based on Closing Price)?\n",
        "6. What was the average daily trading volume during this year?\n",
        "7. (Optional) What was the median trading volume during this year. (Note: you may need to implement your own function for calculating the median.)"
      ],
      "metadata": {
        "id": "CNtwHG1xIs_m"
      }
    },
    {
      "cell_type": "code",
      "execution_count": null,
      "source": [],
      "outputs": [],
      "metadata": {
        "id": "SYy-ETiFIs_n"
      }
    },
    {
      "cell_type": "code",
      "execution_count": null,
      "source": [],
      "outputs": [],
      "metadata": {
        "id": "aPEk1T8uIs_n"
      }
    }
  ],
  "metadata": {
    "kernelspec": {
      "name": "python3",
      "display_name": "Python 3.8.1 64-bit ('dsc_v5_solutions-7Q1D_Dt-': venv)"
    },
    "language_info": {
      "codemirror_mode": {
        "name": "ipython",
        "version": 3
      },
      "file_extension": ".py",
      "mimetype": "text/x-python",
      "name": "python",
      "nbconvert_exporter": "python",
      "pygments_lexer": "ipython3",
      "version": "3.8.1"
    },
    "interpreter": {
      "hash": "7635eb1b9d0fe97add78a7368b6b431c09bb8ad5c42e437d64abdd99821c31ae"
    },
    "colab": {
      "provenance": [],
      "include_colab_link": true
    }
  },
  "nbformat": 4,
  "nbformat_minor": 0
}